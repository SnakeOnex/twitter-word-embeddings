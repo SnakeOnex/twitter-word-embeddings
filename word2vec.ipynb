{
 "cells": [
  {
   "cell_type": "code",
   "execution_count": 1,
   "metadata": {},
   "outputs": [],
   "source": [
    "import torch"
   ]
  },
  {
   "cell_type": "code",
   "execution_count": 2,
   "metadata": {},
   "outputs": [],
   "source": [
    "corpus = ['king is a strong man', \n",
    "          'queen is a wise woman', \n",
    "          'boy is a young man',\n",
    "          'girl is a young woman',\n",
    "          'prince is a young king',\n",
    "          'princess is a young queen',\n",
    "          'man is strong', \n",
    "          'woman is pretty',\n",
    "          'prince is a boy will be king',\n",
    "          'princess is a girl will be queen']"
   ]
  },
  {
   "cell_type": "code",
   "execution_count": 3,
   "metadata": {},
   "outputs": [],
   "source": [
    "def get_set(corpus):\n",
    "    words = []\n",
    "    for line in corpus:\n",
    "        for word in line.split(' '):\n",
    "            words.append(word)\n",
    "    return set(words)"
   ]
  },
  {
   "cell_type": "code",
   "execution_count": 4,
   "metadata": {},
   "outputs": [
    {
     "data": {
      "text/plain": [
       "{'a',\n",
       " 'be',\n",
       " 'boy',\n",
       " 'girl',\n",
       " 'is',\n",
       " 'king',\n",
       " 'man',\n",
       " 'pretty',\n",
       " 'prince',\n",
       " 'princess',\n",
       " 'queen',\n",
       " 'strong',\n",
       " 'will',\n",
       " 'wise',\n",
       " 'woman',\n",
       " 'young'}"
      ]
     },
     "execution_count": 4,
     "metadata": {},
     "output_type": "execute_result"
    }
   ],
   "source": [
    "words = get_set(corpus)\n",
    "words"
   ]
  },
  {
   "cell_type": "markdown",
   "metadata": {},
   "source": [
    "## Skip-gram part"
   ]
  },
  {
   "cell_type": "code",
   "execution_count": 5,
   "metadata": {},
   "outputs": [
    {
     "data": {
      "text/plain": [
       "{'a': 0,\n",
       " 'strong': 1,\n",
       " 'wise': 2,\n",
       " 'princess': 3,\n",
       " 'prince': 4,\n",
       " 'king': 5,\n",
       " 'queen': 6,\n",
       " 'is': 7,\n",
       " 'woman': 8,\n",
       " 'boy': 9,\n",
       " 'girl': 10,\n",
       " 'will': 11,\n",
       " 'be': 12,\n",
       " 'pretty': 13,\n",
       " 'young': 14,\n",
       " 'man': 15}"
      ]
     },
     "execution_count": 5,
     "metadata": {},
     "output_type": "execute_result"
    }
   ],
   "source": [
    "word2int = {}\n",
    "for i, word in enumerate(words):\n",
    "    word2int[word] = i\n",
    "word2int"
   ]
  },
  {
   "cell_type": "code",
   "execution_count": 6,
   "metadata": {},
   "outputs": [
    {
     "data": {
      "text/plain": [
       "[['king', 'is', 'a', 'strong', 'man'],\n",
       " ['queen', 'is', 'a', 'wise', 'woman'],\n",
       " ['boy', 'is', 'a', 'young', 'man'],\n",
       " ['girl', 'is', 'a', 'young', 'woman'],\n",
       " ['prince', 'is', 'a', 'young', 'king'],\n",
       " ['princess', 'is', 'a', 'young', 'queen'],\n",
       " ['man', 'is', 'strong'],\n",
       " ['woman', 'is', 'pretty'],\n",
       " ['prince', 'is', 'a', 'boy', 'will', 'be', 'king'],\n",
       " ['princess', 'is', 'a', 'girl', 'will', 'be', 'queen']]"
      ]
     },
     "execution_count": 6,
     "metadata": {},
     "output_type": "execute_result"
    }
   ],
   "source": [
    "sentences = []\n",
    "for sentence in corpus:\n",
    "    sentences.append(sentence.split(' '))\n",
    "    \n",
    "sentences"
   ]
  },
  {
   "cell_type": "code",
   "execution_count": 11,
   "metadata": {},
   "outputs": [
    {
     "data": {
      "text/plain": [
       "[['is', 'king'],\n",
       " ['a', 'is'],\n",
       " ['strong', 'a'],\n",
       " ['man', 'strong'],\n",
       " ['is', 'queen'],\n",
       " ['a', 'is'],\n",
       " ['wise', 'a'],\n",
       " ['woman', 'wise'],\n",
       " ['is', 'boy'],\n",
       " ['a', 'is'],\n",
       " ['young', 'a'],\n",
       " ['man', 'young'],\n",
       " ['is', 'girl'],\n",
       " ['a', 'is'],\n",
       " ['young', 'a'],\n",
       " ['woman', 'young'],\n",
       " ['is', 'prince'],\n",
       " ['a', 'is'],\n",
       " ['young', 'a'],\n",
       " ['king', 'young'],\n",
       " ['is', 'princess'],\n",
       " ['a', 'is'],\n",
       " ['young', 'a'],\n",
       " ['queen', 'young'],\n",
       " ['is', 'man'],\n",
       " ['strong', 'is'],\n",
       " ['is', 'woman'],\n",
       " ['pretty', 'is'],\n",
       " ['is', 'prince'],\n",
       " ['a', 'is'],\n",
       " ['boy', 'a'],\n",
       " ['will', 'boy'],\n",
       " ['be', 'will'],\n",
       " ['king', 'be'],\n",
       " ['is', 'princess'],\n",
       " ['a', 'is'],\n",
       " ['girl', 'a'],\n",
       " ['will', 'girl'],\n",
       " ['be', 'will'],\n",
       " ['queen', 'be']]"
      ]
     },
     "execution_count": 11,
     "metadata": {},
     "output_type": "execute_result"
    }
   ],
   "source": [
    "data = []\n",
    "window_size = 2\n",
    "for sentence in sentences:\n",
    "    for i, target in enumerate(sentence):\n",
    "        for word in sentence[max(0, i-1):min(len(sentence)-1, i + 1)]:\n",
    "            if target != word:\n",
    "                data.append([target, word])\n",
    "data"
   ]
  },
  {
   "cell_type": "code",
   "execution_count": null,
   "metadata": {},
   "outputs": [],
   "source": []
  }
 ],
 "metadata": {
  "kernelspec": {
   "display_name": "Python 3",
   "language": "python",
   "name": "python3"
  },
  "language_info": {
   "codemirror_mode": {
    "name": "ipython",
    "version": 3
   },
   "file_extension": ".py",
   "mimetype": "text/x-python",
   "name": "python",
   "nbconvert_exporter": "python",
   "pygments_lexer": "ipython3",
   "version": "3.7.0"
  }
 },
 "nbformat": 4,
 "nbformat_minor": 2
}
